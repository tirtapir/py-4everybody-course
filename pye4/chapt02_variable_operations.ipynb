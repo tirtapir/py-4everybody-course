{
 "cells": [
  {
   "cell_type": "code",
   "execution_count": 2,
   "metadata": {},
   "outputs": [
    {
     "name": "stdout",
     "output_type": "stream",
     "text": [
      "4\n"
     ]
    }
   ],
   "source": [
    "print(4)"
   ]
  },
  {
   "cell_type": "code",
   "execution_count": 11,
   "metadata": {},
   "outputs": [
    {
     "name": "stdout",
     "output_type": "stream",
     "text": [
      "14 KM\n"
     ]
    }
   ],
   "source": [
    "distances_inp = input()\n",
    "distance = int(distances_inp)\n",
    "unit = \"KM\"\n",
    "print(distance,unit)"
   ]
  },
  {
   "cell_type": "code",
   "execution_count": 12,
   "metadata": {},
   "outputs": [
    {
     "name": "stdout",
     "output_type": "stream",
     "text": [
      "12 KM\n"
     ]
    }
   ],
   "source": [
    "dstnc_inp = input()\n",
    "dstnc = int(dstnc_inp)\n",
    "\n",
    "print(dstnc,'KM')"
   ]
  },
  {
   "cell_type": "code",
   "execution_count": 3,
   "metadata": {},
   "outputs": [
    {
     "data": {
      "text/plain": [
       "6"
      ]
     },
     "execution_count": 3,
     "metadata": {},
     "output_type": "execute_result"
    }
   ],
   "source": [
    "5\n",
    "x = 5\n",
    "x + 1"
   ]
  },
  {
   "cell_type": "code",
   "execution_count": 4,
   "metadata": {},
   "outputs": [
    {
     "name": "stdout",
     "output_type": "stream",
     "text": [
      "Hello Tirta\n"
     ]
    }
   ],
   "source": [
    "name = input('namamu siapa?')\n",
    "print('Hello' , name)"
   ]
  },
  {
   "cell_type": "code",
   "execution_count": 5,
   "metadata": {},
   "outputs": [
    {
     "ename": "TypeError",
     "evalue": "unsupported operand type(s) for -: 'str' and 'int'",
     "output_type": "error",
     "traceback": [
      "\u001b[0;31m---------------------------------------------------------------------------\u001b[0m",
      "\u001b[0;31mTypeError\u001b[0m                                 Traceback (most recent call last)",
      "Cell \u001b[0;32mIn[5], line 2\u001b[0m\n\u001b[1;32m      1\u001b[0m tinggi \u001b[39m=\u001b[39m \u001b[39minput\u001b[39m()\n\u001b[0;32m----> 2\u001b[0m bobot \u001b[39m=\u001b[39m tinggi \u001b[39m-\u001b[39;49m \u001b[39m100\u001b[39;49m\n\u001b[1;32m      3\u001b[0m \u001b[39mprint\u001b[39m(\u001b[39m'\u001b[39m\u001b[39mbobot ideal anda adalah \u001b[39m\u001b[39m'\u001b[39m \u001b[39m+\u001b[39m bobot)\n",
      "\u001b[0;31mTypeError\u001b[0m: unsupported operand type(s) for -: 'str' and 'int'"
     ]
    }
   ],
   "source": [
    "tinggi = input()\n",
    "bobot = tinggi - 100\n",
    "print('bobot ideal anda adalah ' + bobot)"
   ]
  },
  {
   "cell_type": "code",
   "execution_count": 4,
   "metadata": {},
   "outputs": [
    {
     "name": "stdout",
     "output_type": "stream",
     "text": [
      "bobot ideal anda adalah  -65\n"
     ]
    }
   ],
   "source": [
    "#Meminta pengguna mengginputkan tinggi badannya\n",
    "tinggi_input = input('Masukkan tinggi badan anda : ')\n",
    "\n",
    "#Mengubah tipe data tinggi badan yg diinput user menjadi integer\n",
    "tinggi = int(tinggi_input)\n",
    "\n",
    "#memasukkan hasil operasi pengurangan 100-tinggi badan kedalam variabel bobot\n",
    "bobot = tinggi - 100\n",
    "\n",
    "#menampilkan value dari variabel bobot\n",
    "print('bobot ideal anda adalah ' , bobot)"
   ]
  },
  {
   "cell_type": "code",
   "execution_count": 10,
   "metadata": {},
   "outputs": [
    {
     "name": "stdout",
     "output_type": "stream",
     "text": [
      "pay : 96.25\n"
     ]
    }
   ],
   "source": [
    "hours_input = input('Enter Hours : ')\n",
    "hours = float(hours_input)\n",
    "\n",
    "rate_input = input('Enter rate : ')\n",
    "rate = float(rate_input)\n",
    "\n",
    "pay =  float(hours * rate)\n",
    "print('pay :', pay)"
   ]
  },
  {
   "cell_type": "code",
   "execution_count": 12,
   "metadata": {},
   "outputs": [
    {
     "name": "stdout",
     "output_type": "stream",
     "text": [
      "8\n",
      "<class 'int'>\n",
      "8.5\n",
      "<class 'float'>\n",
      "4.0\n",
      "<class 'float'>\n",
      "11\n",
      "<class 'int'>\n"
     ]
    }
   ],
   "source": [
    "width = 17\n",
    "height = 12.0\n",
    "\n",
    "width1 = width//2\n",
    "width2 = width/2\n",
    "height1 = height/3\n",
    "\n",
    "a = 1+2 * 5\n",
    "\n",
    "print(width1)\n",
    "print(type(width1))\n",
    "print(width2)\n",
    "print(type(width2))\n",
    "print(height1)\n",
    "print(type(height1))\n",
    "print(a)\n",
    "print(type(a))"
   ]
  },
  {
   "cell_type": "code",
   "execution_count": 1,
   "metadata": {},
   "outputs": [
    {
     "name": "stdout",
     "output_type": "stream",
     "text": [
      "suhu fahrenheit = 32.0 F\n"
     ]
    }
   ],
   "source": [
    "celcius_inp = input('Masukkan suhu celcius : ')\n",
    "celcius = float(celcius_inp)\n",
    "fahrenheit = celcius * 9 / 5 + 32\n",
    "\n",
    "print ('suhu fahrenheit =', fahrenheit ,'F') "
   ]
  }
 ],
 "metadata": {
  "kernelspec": {
   "display_name": "Python 3",
   "language": "python",
   "name": "python3"
  },
  "language_info": {
   "codemirror_mode": {
    "name": "ipython",
    "version": 3
   },
   "file_extension": ".py",
   "mimetype": "text/x-python",
   "name": "python",
   "nbconvert_exporter": "python",
   "pygments_lexer": "ipython3",
   "version": "3.11.4"
  },
  "orig_nbformat": 4
 },
 "nbformat": 4,
 "nbformat_minor": 2
}
